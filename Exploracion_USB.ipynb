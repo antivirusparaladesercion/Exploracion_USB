{
 "cells": [
  {
   "cell_type": "markdown",
   "metadata": {},
   "source": [
    "# Analisis Exploratorio - Datos USB - mio\n",
    "Fuentes de datos analizadas\n",
    "\n",
    "* pd_academico\n",
    "* pd_basico\n",
    "* pd_movilidad\n",
    "* pd_paoe\n",
    "* pd_situacion\n"
   ]
  },
  {
   "cell_type": "markdown",
   "metadata": {},
   "source": [
    "### Preparación del entorno"
   ]
  },
  {
   "cell_type": "code",
   "execution_count": 369,
   "metadata": {},
   "outputs": [],
   "source": [
    "#Se importan las librerías a implementar\n",
    "import pandas as pd\n",
    "import psycopg2"
   ]
  },
  {
   "cell_type": "markdown",
   "metadata": {},
   "source": [
    "### Definición de funciones"
   ]
  },
  {
   "cell_type": "code",
   "execution_count": 370,
   "metadata": {},
   "outputs": [],
   "source": [
    "\"\"\" Función para calcular la edad\n",
    "calcular_edad(fecha de nacimiento):\n",
    "return edad\"\"\"\n",
    "\n",
    "def calcular_edad(fecha_nacimiento):\n",
    "    from datetime import date\n",
    "    hoy = date.today()\n",
    "    edad = int(hoy.year - fecha_nacimiento.year)\n",
    "    \n",
    "    return edad"
   ]
  },
  {
   "cell_type": "markdown",
   "metadata": {},
   "source": [
    "### Conexión a fuentes de datos\n",
    "Se muestra la configuración de la conexión a una base de datos Postgres local, con el fin de implementarse más adelante la conexión directa a la base de datos de la IES"
   ]
  },
  {
   "cell_type": "code",
   "execution_count": 371,
   "metadata": {},
   "outputs": [],
   "source": [
    "# Variables globales\n",
    "PSQL_HOST = \"localhost\"\n",
    "PSQL_PORT = \"5432\"\n",
    "PSQL_USER = \"postgres\"\n",
    "PSQL_PASS = \"****\"\n",
    "PSQL_DB = \"ruav_usb\"\n",
    "\n",
    "connection_address = \"\"\"\n",
    "host=%s port=%s user=%s password=%s dbname=%s\n",
    "\"\"\"% (PSQL_HOST, PSQL_PORT, PSQL_USER, PSQL_PASS, PSQL_DB)\n",
    "\n",
    "connection = psycopg2.connect(connection_address)"
   ]
  },
  {
   "cell_type": "markdown",
   "metadata": {},
   "source": [
    "Se muestra como sería la conexión directamente a un archivo CSV"
   ]
  },
  {
   "cell_type": "code",
   "execution_count": null,
   "metadata": {},
   "outputs": [],
   "source": [
    "df_personales = pd.read_csv('datos_personales_v1.csv',';')"
   ]
  },
  {
   "cell_type": "markdown",
   "metadata": {},
   "source": [
    "### Inicio de exploración de los datos\n",
    "\n",
    "Inicio cargando en forma de dataset, mediante una consulta a la base de datos, toda la información que necesito de sus tablas"
   ]
  },
  {
   "cell_type": "code",
   "execution_count": 372,
   "metadata": {},
   "outputs": [],
   "source": [
    "#Consulta para cargar todo el historial académico compartido\n",
    "query_historial = \"select * from historial_desempeno_materias;\"\n",
    "df_historial= pd.read_sql_query(query_historial,connection)"
   ]
  },
  {
   "cell_type": "code",
   "execution_count": 373,
   "metadata": {},
   "outputs": [],
   "source": [
    "#Consulta para obtener los ID de aquellos estudiantes que finalizaron su programa exitosamente,Graduados\n",
    "query_graduados = \"select id_usb from graduados;\"\n",
    "id_graduados= (pd.read_sql_query(query_graduados,connection).id_usb).tolist() #se almacena como list para utilizar luego in"
   ]
  },
  {
   "cell_type": "markdown",
   "metadata": {},
   "source": [
    "Se crea diccionario con id de estudiantes que han cursado los diferentes semestres del periodo comprendido en la data"
   ]
  },
  {
   "cell_type": "code",
   "execution_count": 374,
   "metadata": {},
   "outputs": [],
   "source": [
    "anos = list(range(2009,2021,1)) #Años disposibles\n",
    "periodos = list(range(1,3,1)) #Semestre 1 y 2\n",
    "semestres = [] #Lista que contendrá los semestres, ejemplo 20191\n",
    "matricula_tiempo = {} #Diccionario\n",
    "for i in anos:\n",
    "    for j in periodos:\n",
    "        semestres.append(str(i)+str(j)) #Se crea la cadena de caracteres año+periodo\n",
    "        if i == 2020:\n",
    "            break\n",
    "\n",
    "#Ciclo para poblado de diccionario\n",
    "k = 0\n",
    "for i in anos:\n",
    "    for j in periodos:\n",
    "        id_usb = ((df_historial[(df_historial.anho == str(i)) & (df_historial.periodo == str(j))][['id_usb']])['id_usb'].unique()).tolist()\n",
    "        matricula_tiempo[semestres[k]] = id_usb\n",
    "        if semestres[k] == '20201':\n",
    "            break\n",
    "        k = k+1"
   ]
  },
  {
   "cell_type": "markdown",
   "metadata": {},
   "source": [
    "Se creará dataframe para identificar la permanencia de los estudiantes en el programa, dos faltas consecutivas serán consideradas como motivo de deserción, por lo que recibirán la etiqueta de Desertor. Los estudiantes matriculados en 20201 tendrán la etiqueta de Activo. Y quienes hayan finalizado su programa serán etiquetados como Graduado"
   ]
  },
  {
   "cell_type": "code",
   "execution_count": 375,
   "metadata": {},
   "outputs": [],
   "source": [
    "#Dataframe binario donde 1 significa que el si se cursó un semestre determinado y 0 significa que no\n",
    "permanencia = pd.DataFrame(columns=['id_usb','20091','20092','20101','20102','20111','20112','20121','20122','20131','20132','20141','20142','20151','20152','20161','20162','20171','20172','20181','20182','20191','20192','20201','Estado']\n",
    "                    )\n",
    "permanencia['id_usb'] = df_historial['id_usb'].unique()\n",
    "\n",
    "#Se pobla el dataframe\n",
    "k = 0\n",
    "for i in range(permanencia.shape[0]):\n",
    "    for j in matricula_tiempo.keys():\n",
    "        if permanencia.loc[k,'id_usb'] in matricula_tiempo[j]:\n",
    "            permanencia.loc[k,j] = 1\n",
    "        else:\n",
    "            permanencia.loc[k,j] = 0\n",
    "    k = k + 1"
   ]
  },
  {
   "cell_type": "code",
   "execution_count": 376,
   "metadata": {},
   "outputs": [],
   "source": [
    "#Se agregan etiquetas Activo y Graduado\n",
    "for i in range(permanencia.shape[0]):\n",
    "    if permanencia.loc[i,'20201'] == 1:\n",
    "        permanencia.loc[i,'Estado'] = 'Activo'\n",
    "    if permanencia.loc[i,'id_usb'] in id_graduados:\n",
    "        permanencia.loc[i,'Estado'] = 'Graduado'"
   ]
  },
  {
   "cell_type": "markdown",
   "metadata": {},
   "source": [
    "En búsqueda de los Desertores"
   ]
  },
  {
   "cell_type": "code",
   "execution_count": 377,
   "metadata": {},
   "outputs": [],
   "source": [
    "#Se traen los id de estudiantes que no tienen ninguna categórica asignada\n",
    "desertores = []\n",
    "mask = permanencia['Estado'].isnull()\n",
    "candidatos_desertores = permanencia[mask].reset_index(drop = True)"
   ]
  },
  {
   "cell_type": "code",
   "execution_count": 378,
   "metadata": {},
   "outputs": [],
   "source": [
    "#Se buscan aquellos candidatos a desertores que cumplan con 2 semestres de inactividad consecutiva\n",
    "for i in range(candidatos_desertores.shape[0]):\n",
    "    k = -1\n",
    "    periodo_inactivo = 0\n",
    "    for j in range(candidatos_desertores.shape[1]):\n",
    "        if permanencia.iloc[i,j] == 1:\n",
    "            k = 1\n",
    "            periodo_inactivo = 0\n",
    "            continue\n",
    "        elif candidatos_desertores.iloc[i,j] == 0 & k != -1:\n",
    "            periodo_inactivo = periodo_inactivo + 1\n",
    "            if periodo_inactivo == 2:\n",
    "                desertores.append(candidatos_desertores.loc[i,'id_usb'])\n",
    "                break\n",
    "        else:\n",
    "            continue"
   ]
  },
  {
   "cell_type": "code",
   "execution_count": 379,
   "metadata": {},
   "outputs": [],
   "source": [
    "for i in desertores:\n",
    "    index = permanencia['id_usb']==i\n",
    "    permanencia.loc[index,'Estado'] = 'Desertor'"
   ]
  },
  {
   "cell_type": "code",
   "execution_count": 380,
   "metadata": {},
   "outputs": [
    {
     "data": {
      "text/html": [
       "<div>\n",
       "<style scoped>\n",
       "    .dataframe tbody tr th:only-of-type {\n",
       "        vertical-align: middle;\n",
       "    }\n",
       "\n",
       "    .dataframe tbody tr th {\n",
       "        vertical-align: top;\n",
       "    }\n",
       "\n",
       "    .dataframe thead th {\n",
       "        text-align: right;\n",
       "    }\n",
       "</style>\n",
       "<table border=\"1\" class=\"dataframe\">\n",
       "  <thead>\n",
       "    <tr style=\"text-align: right;\">\n",
       "      <th></th>\n",
       "      <th>id_usb</th>\n",
       "      <th>20091</th>\n",
       "      <th>20092</th>\n",
       "      <th>20101</th>\n",
       "      <th>20102</th>\n",
       "      <th>20111</th>\n",
       "      <th>20112</th>\n",
       "      <th>20121</th>\n",
       "      <th>20122</th>\n",
       "      <th>20131</th>\n",
       "      <th>...</th>\n",
       "      <th>20161</th>\n",
       "      <th>20162</th>\n",
       "      <th>20171</th>\n",
       "      <th>20172</th>\n",
       "      <th>20181</th>\n",
       "      <th>20182</th>\n",
       "      <th>20191</th>\n",
       "      <th>20192</th>\n",
       "      <th>20201</th>\n",
       "      <th>Estado</th>\n",
       "    </tr>\n",
       "  </thead>\n",
       "  <tbody>\n",
       "    <tr>\n",
       "      <th>0</th>\n",
       "      <td>1</td>\n",
       "      <td>0</td>\n",
       "      <td>0</td>\n",
       "      <td>0</td>\n",
       "      <td>0</td>\n",
       "      <td>0</td>\n",
       "      <td>0</td>\n",
       "      <td>0</td>\n",
       "      <td>0</td>\n",
       "      <td>0</td>\n",
       "      <td>...</td>\n",
       "      <td>0</td>\n",
       "      <td>1</td>\n",
       "      <td>1</td>\n",
       "      <td>1</td>\n",
       "      <td>0</td>\n",
       "      <td>0</td>\n",
       "      <td>0</td>\n",
       "      <td>0</td>\n",
       "      <td>0</td>\n",
       "      <td>Desertor</td>\n",
       "    </tr>\n",
       "    <tr>\n",
       "      <th>1</th>\n",
       "      <td>2</td>\n",
       "      <td>0</td>\n",
       "      <td>0</td>\n",
       "      <td>0</td>\n",
       "      <td>0</td>\n",
       "      <td>0</td>\n",
       "      <td>0</td>\n",
       "      <td>0</td>\n",
       "      <td>1</td>\n",
       "      <td>1</td>\n",
       "      <td>...</td>\n",
       "      <td>1</td>\n",
       "      <td>1</td>\n",
       "      <td>1</td>\n",
       "      <td>0</td>\n",
       "      <td>0</td>\n",
       "      <td>0</td>\n",
       "      <td>0</td>\n",
       "      <td>0</td>\n",
       "      <td>0</td>\n",
       "      <td>Graduado</td>\n",
       "    </tr>\n",
       "    <tr>\n",
       "      <th>2</th>\n",
       "      <td>3</td>\n",
       "      <td>0</td>\n",
       "      <td>1</td>\n",
       "      <td>1</td>\n",
       "      <td>1</td>\n",
       "      <td>1</td>\n",
       "      <td>1</td>\n",
       "      <td>1</td>\n",
       "      <td>1</td>\n",
       "      <td>1</td>\n",
       "      <td>...</td>\n",
       "      <td>1</td>\n",
       "      <td>0</td>\n",
       "      <td>1</td>\n",
       "      <td>0</td>\n",
       "      <td>0</td>\n",
       "      <td>0</td>\n",
       "      <td>0</td>\n",
       "      <td>0</td>\n",
       "      <td>0</td>\n",
       "      <td>Graduado</td>\n",
       "    </tr>\n",
       "    <tr>\n",
       "      <th>3</th>\n",
       "      <td>4</td>\n",
       "      <td>0</td>\n",
       "      <td>0</td>\n",
       "      <td>0</td>\n",
       "      <td>0</td>\n",
       "      <td>0</td>\n",
       "      <td>0</td>\n",
       "      <td>0</td>\n",
       "      <td>0</td>\n",
       "      <td>0</td>\n",
       "      <td>...</td>\n",
       "      <td>1</td>\n",
       "      <td>1</td>\n",
       "      <td>1</td>\n",
       "      <td>1</td>\n",
       "      <td>1</td>\n",
       "      <td>1</td>\n",
       "      <td>1</td>\n",
       "      <td>1</td>\n",
       "      <td>1</td>\n",
       "      <td>Activo</td>\n",
       "    </tr>\n",
       "    <tr>\n",
       "      <th>4</th>\n",
       "      <td>5</td>\n",
       "      <td>0</td>\n",
       "      <td>0</td>\n",
       "      <td>0</td>\n",
       "      <td>0</td>\n",
       "      <td>0</td>\n",
       "      <td>0</td>\n",
       "      <td>0</td>\n",
       "      <td>0</td>\n",
       "      <td>0</td>\n",
       "      <td>...</td>\n",
       "      <td>1</td>\n",
       "      <td>1</td>\n",
       "      <td>1</td>\n",
       "      <td>0</td>\n",
       "      <td>1</td>\n",
       "      <td>0</td>\n",
       "      <td>1</td>\n",
       "      <td>0</td>\n",
       "      <td>0</td>\n",
       "      <td>Desertor</td>\n",
       "    </tr>\n",
       "    <tr>\n",
       "      <th>...</th>\n",
       "      <td>...</td>\n",
       "      <td>...</td>\n",
       "      <td>...</td>\n",
       "      <td>...</td>\n",
       "      <td>...</td>\n",
       "      <td>...</td>\n",
       "      <td>...</td>\n",
       "      <td>...</td>\n",
       "      <td>...</td>\n",
       "      <td>...</td>\n",
       "      <td>...</td>\n",
       "      <td>...</td>\n",
       "      <td>...</td>\n",
       "      <td>...</td>\n",
       "      <td>...</td>\n",
       "      <td>...</td>\n",
       "      <td>...</td>\n",
       "      <td>...</td>\n",
       "      <td>...</td>\n",
       "      <td>...</td>\n",
       "      <td>...</td>\n",
       "    </tr>\n",
       "    <tr>\n",
       "      <th>385</th>\n",
       "      <td>386</td>\n",
       "      <td>0</td>\n",
       "      <td>0</td>\n",
       "      <td>0</td>\n",
       "      <td>0</td>\n",
       "      <td>0</td>\n",
       "      <td>0</td>\n",
       "      <td>0</td>\n",
       "      <td>0</td>\n",
       "      <td>0</td>\n",
       "      <td>...</td>\n",
       "      <td>0</td>\n",
       "      <td>0</td>\n",
       "      <td>0</td>\n",
       "      <td>0</td>\n",
       "      <td>0</td>\n",
       "      <td>0</td>\n",
       "      <td>0</td>\n",
       "      <td>0</td>\n",
       "      <td>1</td>\n",
       "      <td>Activo</td>\n",
       "    </tr>\n",
       "    <tr>\n",
       "      <th>386</th>\n",
       "      <td>387</td>\n",
       "      <td>0</td>\n",
       "      <td>0</td>\n",
       "      <td>0</td>\n",
       "      <td>0</td>\n",
       "      <td>0</td>\n",
       "      <td>0</td>\n",
       "      <td>0</td>\n",
       "      <td>0</td>\n",
       "      <td>0</td>\n",
       "      <td>...</td>\n",
       "      <td>1</td>\n",
       "      <td>1</td>\n",
       "      <td>1</td>\n",
       "      <td>1</td>\n",
       "      <td>1</td>\n",
       "      <td>1</td>\n",
       "      <td>1</td>\n",
       "      <td>1</td>\n",
       "      <td>1</td>\n",
       "      <td>Activo</td>\n",
       "    </tr>\n",
       "    <tr>\n",
       "      <th>387</th>\n",
       "      <td>388</td>\n",
       "      <td>0</td>\n",
       "      <td>0</td>\n",
       "      <td>0</td>\n",
       "      <td>0</td>\n",
       "      <td>0</td>\n",
       "      <td>0</td>\n",
       "      <td>0</td>\n",
       "      <td>0</td>\n",
       "      <td>0</td>\n",
       "      <td>...</td>\n",
       "      <td>1</td>\n",
       "      <td>1</td>\n",
       "      <td>1</td>\n",
       "      <td>1</td>\n",
       "      <td>1</td>\n",
       "      <td>1</td>\n",
       "      <td>1</td>\n",
       "      <td>1</td>\n",
       "      <td>1</td>\n",
       "      <td>Activo</td>\n",
       "    </tr>\n",
       "    <tr>\n",
       "      <th>388</th>\n",
       "      <td>389</td>\n",
       "      <td>0</td>\n",
       "      <td>0</td>\n",
       "      <td>0</td>\n",
       "      <td>0</td>\n",
       "      <td>0</td>\n",
       "      <td>0</td>\n",
       "      <td>0</td>\n",
       "      <td>0</td>\n",
       "      <td>0</td>\n",
       "      <td>...</td>\n",
       "      <td>0</td>\n",
       "      <td>0</td>\n",
       "      <td>0</td>\n",
       "      <td>0</td>\n",
       "      <td>0</td>\n",
       "      <td>0</td>\n",
       "      <td>1</td>\n",
       "      <td>0</td>\n",
       "      <td>0</td>\n",
       "      <td>Desertor</td>\n",
       "    </tr>\n",
       "    <tr>\n",
       "      <th>389</th>\n",
       "      <td>390</td>\n",
       "      <td>0</td>\n",
       "      <td>0</td>\n",
       "      <td>0</td>\n",
       "      <td>0</td>\n",
       "      <td>0</td>\n",
       "      <td>0</td>\n",
       "      <td>0</td>\n",
       "      <td>0</td>\n",
       "      <td>0</td>\n",
       "      <td>...</td>\n",
       "      <td>0</td>\n",
       "      <td>0</td>\n",
       "      <td>0</td>\n",
       "      <td>1</td>\n",
       "      <td>1</td>\n",
       "      <td>1</td>\n",
       "      <td>1</td>\n",
       "      <td>1</td>\n",
       "      <td>1</td>\n",
       "      <td>Activo</td>\n",
       "    </tr>\n",
       "  </tbody>\n",
       "</table>\n",
       "<p>390 rows × 25 columns</p>\n",
       "</div>"
      ],
      "text/plain": [
       "     id_usb 20091 20092 20101 20102 20111 20112 20121 20122 20131  ... 20161  \\\n",
       "0         1     0     0     0     0     0     0     0     0     0  ...     0   \n",
       "1         2     0     0     0     0     0     0     0     1     1  ...     1   \n",
       "2         3     0     1     1     1     1     1     1     1     1  ...     1   \n",
       "3         4     0     0     0     0     0     0     0     0     0  ...     1   \n",
       "4         5     0     0     0     0     0     0     0     0     0  ...     1   \n",
       "..      ...   ...   ...   ...   ...   ...   ...   ...   ...   ...  ...   ...   \n",
       "385     386     0     0     0     0     0     0     0     0     0  ...     0   \n",
       "386     387     0     0     0     0     0     0     0     0     0  ...     1   \n",
       "387     388     0     0     0     0     0     0     0     0     0  ...     1   \n",
       "388     389     0     0     0     0     0     0     0     0     0  ...     0   \n",
       "389     390     0     0     0     0     0     0     0     0     0  ...     0   \n",
       "\n",
       "    20162 20171 20172 20181 20182 20191 20192 20201    Estado  \n",
       "0       1     1     1     0     0     0     0     0  Desertor  \n",
       "1       1     1     0     0     0     0     0     0  Graduado  \n",
       "2       0     1     0     0     0     0     0     0  Graduado  \n",
       "3       1     1     1     1     1     1     1     1    Activo  \n",
       "4       1     1     0     1     0     1     0     0  Desertor  \n",
       "..    ...   ...   ...   ...   ...   ...   ...   ...       ...  \n",
       "385     0     0     0     0     0     0     0     1    Activo  \n",
       "386     1     1     1     1     1     1     1     1    Activo  \n",
       "387     1     1     1     1     1     1     1     1    Activo  \n",
       "388     0     0     0     0     0     1     0     0  Desertor  \n",
       "389     0     0     1     1     1     1     1     1    Activo  \n",
       "\n",
       "[390 rows x 25 columns]"
      ]
     },
     "execution_count": 380,
     "metadata": {},
     "output_type": "execute_result"
    }
   ],
   "source": [
    "permanencia"
   ]
  },
  {
   "cell_type": "code",
   "execution_count": 381,
   "metadata": {},
   "outputs": [
    {
     "data": {
      "text/plain": [
       "<matplotlib.axes._subplots.AxesSubplot at 0x7f9fc1b6f190>"
      ]
     },
     "execution_count": 381,
     "metadata": {},
     "output_type": "execute_result"
    },
    {
     "data": {
      "image/png": "[encoded data removed]",
      "text/plain": [
       "<Figure size 432x288 with 1 Axes>"
      ]
     },
     "metadata": {
      "needs_background": "light"
     },
     "output_type": "display_data"
    }
   ],
   "source": [
    "permanencia.groupby('Estado').count()[\"id_usb\"].plot(kind='bar', title = 'Cantidad de estudiante por Estado')\n",
    "#plt.title(\"Cantidad de estudiante por Estado\")"
   ]
  },
  {
   "cell_type": "markdown",
   "metadata": {},
   "source": [
    "### Se cálculos importantes\n",
    "Cálculo de promedio acumulado para cada estudiante. Se añadirá una columna al dataset, llamada **nota_credito** y allí se almacenará el producto entre las columnas **creditos** y **calificacion**. Para posteriormente hallar la nota promedio según la cantidad de créditos vistos"
   ]
  },
  {
   "cell_type": "code",
   "execution_count": null,
   "metadata": {},
   "outputs": [],
   "source": [
    "#Se halla la multiplicación entre las oclumnas creditos y calificacion, y se asigna a la nueva columna nota_credito\n",
    "df_historial['nota_credito'] = df_historial['creditos']*df_historial['calificacion']"
   ]
  },
  {
   "cell_type": "code",
   "execution_count": null,
   "metadata": {},
   "outputs": [],
   "source": [
    "#Se calcula el promedio acumulado de cada uno de los estudiantes y se añade al dataset permanencia\n",
    "promedio_acumulado = []\n",
    "for i in df_historial['id_usb'].unique():\n",
    "    promedio_acumulado.append(round(df_historial[(df_historial['id_usb'] == i)]['nota_credito'].sum()/df_historial[(df_historial['id_usb'] == i)]['creditos'].sum(),2))\n",
    "permanencia['Promedio_Acumulado'] = promedio_acumulado"
   ]
  },
  {
   "cell_type": "markdown",
   "metadata": {},
   "source": [
    "Ahora se calculará la cantidad de materias vista por los estudiantes a lo largo de su estadía en la universidad y posteriormente se añade la variable cantidad_repeticiones (veces vista una materia),  esta  se añade pero se deja a consideración su uso, puesto que los planes de estudio no permiten distinguir algunas materias que son diferentes, como es el caso de las electivas en alguna línea"
   ]
  },
  {
   "cell_type": "code",
   "execution_count": null,
   "metadata": {},
   "outputs": [],
   "source": [
    "permanencia['cantidad_materias'] = df_historial.groupby('id_usb')['materia'].nunique().tolist()"
   ]
  },
  {
   "cell_type": "code",
   "execution_count": null,
   "metadata": {},
   "outputs": [],
   "source": [
    "lst = []\n",
    "cantidad_repeticiones = []\n",
    "for i in df_historial['id_usb'].unique():\n",
    "    lst = (df_historial[df_historial['id_usb'] == i]['materia'].value_counts()).tolist()\n",
    "    repeticiones = 0\n",
    "    for j in lst:\n",
    "        if j >= 2:\n",
    "            repeticiones = repeticiones + j - 1\n",
    "        else:\n",
    "            continue\n",
    "    cantidad_repeticiones.append(repeticiones)\n",
    "permanencia['cantidad_repeticiones'] = cantidad_repeticiones"
   ]
  },
  {
   "cell_type": "markdown",
   "metadata": {},
   "source": [
    "Finalmente se agregan los datos personales de cada estudiante, como son el género y el estado civil"
   ]
  },
  {
   "cell_type": "code",
   "execution_count": null,
   "metadata": {},
   "outputs": [],
   "source": [
    "permanencia[\"Genero\"] = df_personales['genero']\n",
    "permanencia[\"Estado_Civil\"] = df_personales[\"estado_civil\"]"
   ]
  },
  {
   "cell_type": "markdown",
   "metadata": {},
   "source": [
    "Se procede a la parte de codificación, donde cada variable categórica se pasa a numérica. Pero antes de esto, se separará el dataframe ***Permanencia*** entre los estudiantes que ya conocemos su estado: graduado o desertor, y los estudiantes que se encuentran actualmente ***Activos***"
   ]
  },
  {
   "cell_type": "code",
   "execution_count": null,
   "metadata": {},
   "outputs": [],
   "source": [
    "permanencia_conocido = permanencia[permanencia['Estado'] != 'Activo']\n",
    "permanencia_activos = permanencia[permanencia['Estado'] == 'Activo']"
   ]
  },
  {
   "cell_type": "markdown",
   "metadata": {},
   "source": [
    "Codificación usando LabelEncoder"
   ]
  },
  {
   "cell_type": "code",
   "execution_count": null,
   "metadata": {},
   "outputs": [],
   "source": [
    "encoder = LabelEncoder()"
   ]
  },
  {
   "cell_type": "code",
   "execution_count": null,
   "metadata": {},
   "outputs": [],
   "source": [
    "permanencia_conocido[\"Estado\"] = encoder.fit_transform(permanencia_conocido[\"Estado\"])\n",
    "permanencia_conocido[\"Genero\"] = encoder.fit_transform(permanencia_conocido[\"Genero\"])\n",
    "permanencia_conocido[\"Estado_Civil\"] = encoder.fit_transform(permanencia_conocido[\"Estado_Civil\"])"
   ]
  },
  {
   "cell_type": "code",
   "execution_count": null,
   "metadata": {},
   "outputs": [],
   "source": [
    "permanencia_activos[\"Estado\"] = encoder.fit_transform(permanencia_activos[\"Estado\"])\n",
    "permanencia_activos[\"Genero\"] = encoder.fit_transform(permanencia_activos[\"Genero\"])\n",
    "permanencia_activos[\"Estado_Civil\"] = encoder.fit_transform(permanencia_activos[\"Estado_Civil\"])"
   ]
  },
  {
   "cell_type": "code",
   "execution_count": null,
   "metadata": {},
   "outputs": [],
   "source": [
    "permanencia_conocido.to_csv('final_train.csv')\n",
    "permanencia_activos.to_csv('final_test.csv')"
   ]
  }
 ],
 "metadata": {
  "kernelspec": {
   "display_name": "Python 3",
   "language": "python",
   "name": "python3"
  },
  "language_info": {
   "codemirror_mode": {
    "name": "ipython",
    "version": 3
   },
   "file_extension": ".py",
   "mimetype": "text/x-python",
   "name": "python",
   "nbconvert_exporter": "python",
   "pygments_lexer": "ipython3",
   "version": "3.8.3"
  }
 },
 "nbformat": 4,
 "nbformat_minor": 4
}
